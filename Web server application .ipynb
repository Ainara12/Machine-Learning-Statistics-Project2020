{
 "cells": [
  {
   "cell_type": "markdown",
   "metadata": {},
   "source": [
    "<br>\n",
    "\n",
    "## Web service development\n",
    "\n",
    "I have created this notebook to develop a web service that will work in conjunction with my Machine Learning project included on this folder also for reference. \n",
    "This web server will respond with predicted power values based on speed values sent as HTTP requests.\n"
   ]
  },
  {
   "cell_type": "markdown",
   "metadata": {},
   "source": [
    "***\n",
    "\n",
    "References for this section of project\n",
    "\n",
    "- [Lecturer's repository section of creation of a random app](https://github.com/ianmcloughlin/random-app)\n",
    "\n",
    "- [Lecturer's video lesson](https://web.microsoftstream.com/video/05d8b607-56c3-44a8-9539-c940257e43d8?referrer=https:%2F%2Flearnonline.gmit.ie%2Fcourse%2Fview.php%3Fid%3D1121)\n",
    "***"
   ]
  },
  {
   "cell_type": "markdown",
   "metadata": {},
   "source": [
    "<br> \n",
    "\n",
    "### Steps for creation\n",
    "\n",
    "Initially I am using this sources as references [Lecturer's repository section of creation of a random app](https://github.com/ianmcloughlin/random-app) and [Lecturer's video lesson](https://web.microsoftstream.com/video/05d8b607-56c3-44a8-9539-c940257e43d8?referrer=https:%2F%2Flearnonline.gmit.ie%2Fcourse%2Fview.php%3Fid%3D1121). Following the teacher attemp I am doing this in 'cmder' but I will add the code here for reference and description using markdown cells. \n",
    "\n",
    "- First, I consulted Flask documentation to see how to install and run this package which I am using to do this task. References above. \n",
    "\n",
    "- Second, I separated the code that I want to run in this web service from the main document. I need to run only the part that is an analysis from sklearn. So I created a py document including only this and comments and added to the folder. \n",
    "\n",
    "\n"
   ]
  },
  {
   "cell_type": "code",
   "execution_count": null,
   "metadata": {},
   "outputs": [],
   "source": []
  },
  {
   "cell_type": "markdown",
   "metadata": {},
   "source": [
    "### Practising with teacher random example: \n",
    "\n",
    "\n"
   ]
  },
  {
   "cell_type": "code",
   "execution_count": 1,
   "metadata": {},
   "outputs": [],
   "source": [
    "#Code extracted from teachers repository referenced above: \n",
    "\n",
    "# flask for web app.\n",
    "import flask as fl\n",
    "# numpy for numerical work.\n",
    "import numpy as np\n",
    "\n",
    "# Create a new web app.\n",
    "app = fl.Flask(__name__)\n",
    "\n",
    "# Add root route.\n",
    "@app.route(\"/\")\n",
    "def home():\n",
    "  return app.send_static_file('index.html')\n",
    "\n",
    "# Add uniform route.\n",
    "@app.route('/api/uniform')\n",
    "def uniform():\n",
    "  return {\"value\": np.random.uniform()}\n",
    "\n",
    "# Add normal route.\n",
    "@app.route('/api/normal')\n",
    "def normal():\n",
    "  return {\"value\": np.random.normal()}\n",
    "\n"
   ]
  },
  {
   "cell_type": "code",
   "execution_count": null,
   "metadata": {},
   "outputs": [],
   "source": []
  }
 ],
 "metadata": {
  "kernelspec": {
   "display_name": "Python 3",
   "language": "python",
   "name": "python3"
  },
  "language_info": {
   "codemirror_mode": {
    "name": "ipython",
    "version": 3
   },
   "file_extension": ".py",
   "mimetype": "text/x-python",
   "name": "python",
   "nbconvert_exporter": "python",
   "pygments_lexer": "ipython3",
   "version": "3.8.5"
  }
 },
 "nbformat": 4,
 "nbformat_minor": 4
}
