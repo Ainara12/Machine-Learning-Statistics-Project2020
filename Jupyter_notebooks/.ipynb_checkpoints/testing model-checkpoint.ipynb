{
 "cells": [
  {
   "cell_type": "markdown",
   "metadata": {},
   "source": [
    "<br>\n",
    "       \n",
    "### Testing my Model\n",
    "\n",
    "I am using this notebook to test my model created in this other [notebook](http://localhost:8888/notebooks/Machine%20Learning%20%26%20Statistics-Project.ipynb)"
   ]
  },
  {
   "cell_type": "code",
   "execution_count": 12,
   "metadata": {},
   "outputs": [],
   "source": [
    "#We need to import Pickle module to load it\n",
    "\n",
    "import joblib\n",
    "import numpy as np"
   ]
  },
  {
   "cell_type": "code",
   "execution_count": 20,
   "metadata": {},
   "outputs": [
    {
     "name": "stdout",
     "output_type": "stream",
     "text": [
      "LinearRegression()\n"
     ]
    }
   ],
   "source": [
    "#loading model\n",
    "\n",
    "# Load from file\n",
    "\n",
    "joblib_LR_model = joblib.load('joblib_LR_Model.pkl'\n",
    ")\n",
    "\n",
    "\n",
    "print(joblib_LR_model)"
   ]
  },
  {
   "cell_type": "code",
   "execution_count": 21,
   "metadata": {},
   "outputs": [
    {
     "name": "stdout",
     "output_type": "stream",
     "text": [
      "This is the power generated considering your input: 107.58293030778111\n"
     ]
    }
   ],
   "source": [
    "#Making predictions: \n",
    "\n",
    "Ypredict = joblib_LR_model.predict(np.array([[25.00]]))[0]\n",
    "\n",
    "print('This is the power generated considering your input:',Ypredict)\n"
   ]
  },
  {
   "cell_type": "code",
   "execution_count": null,
   "metadata": {},
   "outputs": [],
   "source": []
  }
 ],
 "metadata": {
  "kernelspec": {
   "display_name": "Python 3",
   "language": "python",
   "name": "python3"
  },
  "language_info": {
   "codemirror_mode": {
    "name": "ipython",
    "version": 3
   },
   "file_extension": ".py",
   "mimetype": "text/x-python",
   "name": "python",
   "nbconvert_exporter": "python",
   "pygments_lexer": "ipython3",
   "version": "3.8.5"
  }
 },
 "nbformat": 4,
 "nbformat_minor": 4
}
