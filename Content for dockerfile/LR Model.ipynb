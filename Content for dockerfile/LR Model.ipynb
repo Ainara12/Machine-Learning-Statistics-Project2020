{
 "cells": [
  {
   "cell_type": "code",
   "execution_count": null,
   "metadata": {},
   "outputs": [],
   "source": [
    "#First we import the modules we are going to use\n",
    "from sklearn.linear_model import LinearRegression #import linear regression model\n",
    "from sklearn.model_selection import train_test_split #to divide data\n"
   ]
  },
  {
   "cell_type": "code",
   "execution_count": null,
   "metadata": {},
   "outputs": [],
   "source": [
    "#loading the dataset we are going to work with\n",
    "\n",
    "Powerdataset=pd.read_csv('Powerproduction dataset.csv', delimiter=',')\n",
    "\n",
    "\n",
    "x=Powerdataset['speed']\n",
    "y=Powerdataset['power']\n",
    "\n",
    "#plotting dataset to see its distribution\n",
    "\n",
    "Powerdataset.plot(kind='scatter', x= 'speed', y='power')\n",
    "\n",
    "plt.show()\n"
   ]
  },
  {
   "cell_type": "code",
   "execution_count": null,
   "metadata": {},
   "outputs": [],
   "source": [
    "#Let's create our linear regression model\n",
    "#doing test train split\n",
    "\n",
    "X_train, X_test, y_train, y_test= train_test_split(Powerdataset.speed, Powerdataset.power)\n"
   ]
  },
  {
   "cell_type": "code",
   "execution_count": null,
   "metadata": {},
   "outputs": [],
   "source": [
    "#Plotting the data spplit done in cell above.\n",
    "#Train data shows in green while test data is in red\n",
    "\n",
    "plt.scatter(X_train, y_train, label='Training Data', color='g', alpha=.7)\n",
    "plt.scatter(X_test, y_test, label='Test Data', color= 'r', alpha=.7)\n",
    "plt.legend()\n",
    "\n",
    "plt.title('Test train split')\n",
    "\n",
    "plt.show()"
   ]
  },
  {
   "cell_type": "code",
   "execution_count": null,
   "metadata": {},
   "outputs": [],
   "source": [
    "#Model creation\n",
    "#naming model LR as Linear Regression\n",
    "LR=LinearRegression()\n",
    "LR.fit(X_train.values.reshape(-1,1), y_train.values)#Adding x_train and y_train values and reshaping X_train values as they need to be in\n",
    "#a 1d shape for this to work "
   ]
  },
  {
   "cell_type": "code",
   "execution_count": null,
   "metadata": {},
   "outputs": [],
   "source": [
    "# Predicting power values using this model we created\n",
    "\n",
    "prediction=LR.predict(X_test.values.reshape(-1,1))\n",
    "\n",
    "#Plotting X_test against prediction results in same plot\n",
    "plt.plot(X_test, prediction, label='Linear Regression', color='r')\n",
    "plt.scatter(X_test, y_test, label='Actual Test Data', color='b', alpha=.7)\n",
    "plt.legend()\n",
    "\n",
    "plt.show()\n"
   ]
  },
  {
   "cell_type": "code",
   "execution_count": null,
   "metadata": {},
   "outputs": [],
   "source": [
    "#Making predictions for specific values\n",
    "#using command predict we enter a sample wind speed: \n",
    "\n",
    "print('This is the power generated considering your input: ')\n",
    "LR.predict(np.array([[25.00]]))[0]\n"
   ]
  },
  {
   "cell_type": "code",
   "execution_count": null,
   "metadata": {},
   "outputs": [],
   "source": [
    "#score function to determine whether the model is accurate. Maximum punctuation is 1.0 . \n",
    "\n",
    "LR.score(X_test.values.reshape(-1,1),y_test.values)"
   ]
  },
  {
   "cell_type": "code",
   "execution_count": null,
   "metadata": {},
   "outputs": [],
   "source": []
  }
 ],
 "metadata": {
  "kernelspec": {
   "display_name": "Python 3",
   "language": "python",
   "name": "python3"
  },
  "language_info": {
   "codemirror_mode": {
    "name": "ipython",
    "version": 3
   },
   "file_extension": ".py",
   "mimetype": "text/x-python",
   "name": "python",
   "nbconvert_exporter": "python",
   "pygments_lexer": "ipython3",
   "version": "3.8.5"
  }
 },
 "nbformat": 4,
 "nbformat_minor": 4
}
